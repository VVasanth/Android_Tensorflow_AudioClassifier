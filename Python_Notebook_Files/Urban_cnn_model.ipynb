{
 "cells": [
  {
   "cell_type": "code",
   "execution_count": 1,
   "metadata": {
    "colab": {},
    "colab_type": "code",
    "id": "tA_zGJTRf_gC"
   },
   "outputs": [],
   "source": [
    "import numpy as np"
   ]
  },
  {
   "cell_type": "code",
   "execution_count": 2,
   "metadata": {
    "colab": {},
    "colab_type": "code",
    "id": "5uRr-bWZWzAD"
   },
   "outputs": [],
   "source": [
    "#extracting data from csv files into numpy arrays\n",
    "from numpy import genfromtxt\n",
    "x_train = genfromtxt('train_data.csv', delimiter=',')\n",
    "y_train = genfromtxt('train_labels.csv', delimiter=',')\n",
    "x_test = genfromtxt('test_data.csv', delimiter=',')\n",
    "y_test = genfromtxt('test_labels.csv', delimiter=',')"
   ]
  },
  {
   "cell_type": "code",
   "execution_count": 3,
   "metadata": {
    "colab": {
     "base_uri": "https://localhost:8080/",
     "height": 34
    },
    "colab_type": "code",
    "id": "sUE1btJWW3bw",
    "outputId": "f74bc8b1-fee5-4efd-b851-b2337f69afb9"
   },
   "outputs": [
    {
     "data": {
      "text/plain": [
       "((153, 40), (50, 40), (153,), (50,))"
      ]
     },
     "execution_count": 3,
     "metadata": {},
     "output_type": "execute_result"
    }
   ],
   "source": [
    "#shape\n",
    "x_train.shape,x_test.shape,y_train.shape,y_test.shape"
   ]
  },
  {
   "cell_type": "code",
   "execution_count": 4,
   "metadata": {
    "colab": {
     "base_uri": "https://localhost:8080/",
     "height": 34
    },
    "colab_type": "code",
    "id": "UDbtZ-GaXEXS",
    "outputId": "50df72f3-2b7e-45b7-ea23-80e5aaca1743"
   },
   "outputs": [
    {
     "data": {
      "text/plain": [
       "((153, 10), (50, 10))"
      ]
     },
     "execution_count": 4,
     "metadata": {},
     "output_type": "execute_result"
    }
   ],
   "source": [
    "#converting to one hot\n",
    "from tensorflow.keras.utils import to_categorical\n",
    "y_train = to_categorical(y_train, num_classes=10)\n",
    "y_test = to_categorical(y_test, num_classes=10)\n",
    "y_train.shape,y_test.shape"
   ]
  },
  {
   "cell_type": "code",
   "execution_count": 6,
   "metadata": {
    "colab": {},
    "colab_type": "code",
    "id": "15K2y9sUgn_L"
   },
   "outputs": [],
   "source": [
    "#reshaping to shape required by CNN\n",
    "x_train=np.reshape(x_train,(x_train.shape[0], 40,1,1))\n",
    "x_test=np.reshape(x_test,(x_test.shape[0], 40,1,1))"
   ]
  },
  {
   "cell_type": "code",
   "execution_count": 7,
   "metadata": {
    "colab": {
     "base_uri": "https://localhost:8080/",
     "height": 34
    },
    "colab_type": "code",
    "id": "CgeQAvcdgtwn",
    "outputId": "fb3d635b-1da0-4c3d-f17f-50c9619cf9da"
   },
   "outputs": [
    {
     "data": {
      "text/plain": [
       "((153, 40, 1, 1), (50, 40, 1, 1))"
      ]
     },
     "execution_count": 7,
     "metadata": {},
     "output_type": "execute_result"
    }
   ],
   "source": [
    "#shapes\n",
    "x_train.shape,x_test.shape"
   ]
  },
  {
   "cell_type": "code",
   "execution_count": 8,
   "metadata": {
    "colab": {},
    "colab_type": "code",
    "id": "3bQ2gHc8f9n4"
   },
   "outputs": [
    {
     "name": "stdout",
     "output_type": "stream",
     "text": [
      "2.2.0\n"
     ]
    }
   ],
   "source": [
    "from tensorflow.keras import Sequential\n",
    "import tensorflow as tf\n",
    "print(tf.__version__)\n",
    "from tensorflow.keras.layers import Dense, Flatten, Conv2D, MaxPooling2D, Dropout\n",
    "from tensorflow.keras import Model"
   ]
  },
  {
   "cell_type": "code",
   "execution_count": 9,
   "metadata": {
    "colab": {},
    "colab_type": "code",
    "id": "SyjNa0N0gGlY"
   },
   "outputs": [],
   "source": [
    "#forming model\n",
    "model=Sequential()"
   ]
  },
  {
   "cell_type": "code",
   "execution_count": 10,
   "metadata": {
    "colab": {},
    "colab_type": "code",
    "id": "fUJUiyVTgkGZ"
   },
   "outputs": [],
   "source": [
    "#adding layers and forming the model\n",
    "model.add(Conv2D(64,kernel_size=5,strides=1,padding=\"Same\",activation=\"relu\",input_shape=(40,1,1)))\n",
    "model.add(MaxPooling2D(padding=\"same\"))\n",
    "\n",
    "model.add(Conv2D(128,kernel_size=5,strides=1,padding=\"same\",activation=\"relu\"))\n",
    "model.add(MaxPooling2D(padding=\"same\"))\n",
    "model.add(Dropout(0.3))\n",
    "\n",
    "model.add(Flatten())\n",
    "\n",
    "model.add(Dense(256,activation=\"relu\"))\n",
    "model.add(Dropout(0.3))\n",
    "\n",
    "model.add(Dense(512,activation=\"relu\"))\n",
    "model.add(Dropout(0.3))\n",
    "\n",
    "model.add(Dense(10,activation=\"softmax\"))"
   ]
  },
  {
   "cell_type": "code",
   "execution_count": 11,
   "metadata": {
    "colab": {},
    "colab_type": "code",
    "id": "ZHek_bnng3xp"
   },
   "outputs": [],
   "source": [
    "#compiling\n",
    "model.compile(optimizer=\"adam\",loss=\"categorical_crossentropy\",metrics=[\"accuracy\"])"
   ]
  },
  {
   "cell_type": "code",
   "execution_count": 12,
   "metadata": {
    "colab": {
     "base_uri": "https://localhost:8080/",
     "height": 1091
    },
    "colab_type": "code",
    "id": "Hc_E0cTog96t",
    "outputId": "4fb76b2e-08bc-4a38-d574-79490df067f5"
   },
   "outputs": [
    {
     "name": "stdout",
     "output_type": "stream",
     "text": [
      "Epoch 1/30\n",
      "4/4 [==============================] - 0s 48ms/step - loss: 2.0726 - accuracy: 0.2745 - val_loss: 3.3352 - val_accuracy: 0.1200\n",
      "Epoch 2/30\n",
      "4/4 [==============================] - 0s 13ms/step - loss: 1.6048 - accuracy: 0.4967 - val_loss: 3.6241 - val_accuracy: 0.1000\n",
      "Epoch 3/30\n",
      "4/4 [==============================] - 0s 13ms/step - loss: 1.3376 - accuracy: 0.5556 - val_loss: 4.1635 - val_accuracy: 0.1200\n",
      "Epoch 4/30\n",
      "4/4 [==============================] - 0s 13ms/step - loss: 1.0308 - accuracy: 0.7255 - val_loss: 4.1981 - val_accuracy: 0.1200\n",
      "Epoch 5/30\n",
      "4/4 [==============================] - 0s 13ms/step - loss: 0.7843 - accuracy: 0.7778 - val_loss: 4.3473 - val_accuracy: 0.1200\n",
      "Epoch 6/30\n",
      "4/4 [==============================] - 0s 12ms/step - loss: 0.7192 - accuracy: 0.7974 - val_loss: 4.4873 - val_accuracy: 0.1200\n",
      "Epoch 7/30\n",
      "4/4 [==============================] - 0s 13ms/step - loss: 0.5531 - accuracy: 0.8170 - val_loss: 4.0361 - val_accuracy: 0.1200\n",
      "Epoch 8/30\n",
      "4/4 [==============================] - 0s 13ms/step - loss: 0.4270 - accuracy: 0.8693 - val_loss: 3.6794 - val_accuracy: 0.1200\n",
      "Epoch 9/30\n",
      "4/4 [==============================] - 0s 13ms/step - loss: 0.3672 - accuracy: 0.9281 - val_loss: 3.8678 - val_accuracy: 0.1200\n",
      "Epoch 10/30\n",
      "4/4 [==============================] - 0s 14ms/step - loss: 0.2402 - accuracy: 0.9412 - val_loss: 4.3586 - val_accuracy: 0.1200\n",
      "Epoch 11/30\n",
      "4/4 [==============================] - 0s 12ms/step - loss: 0.2890 - accuracy: 0.9150 - val_loss: 3.7867 - val_accuracy: 0.1200\n",
      "Epoch 12/30\n",
      "4/4 [==============================] - 0s 12ms/step - loss: 0.1881 - accuracy: 0.9346 - val_loss: 3.5562 - val_accuracy: 0.1800\n",
      "Epoch 13/30\n",
      "4/4 [==============================] - 0s 12ms/step - loss: 0.2113 - accuracy: 0.9346 - val_loss: 3.8496 - val_accuracy: 0.7400\n",
      "Epoch 14/30\n",
      "4/4 [==============================] - 0s 12ms/step - loss: 0.2429 - accuracy: 0.9477 - val_loss: 3.5848 - val_accuracy: 0.7400\n",
      "Epoch 15/30\n",
      "4/4 [==============================] - 0s 13ms/step - loss: 0.1477 - accuracy: 0.9542 - val_loss: 3.2284 - val_accuracy: 0.7400\n",
      "Epoch 16/30\n",
      "4/4 [==============================] - 0s 15ms/step - loss: 0.1005 - accuracy: 0.9673 - val_loss: 3.2545 - val_accuracy: 0.7400\n",
      "Epoch 17/30\n",
      "4/4 [==============================] - 0s 16ms/step - loss: 0.0673 - accuracy: 0.9935 - val_loss: 3.5861 - val_accuracy: 0.7400\n",
      "Epoch 18/30\n",
      "4/4 [==============================] - 0s 16ms/step - loss: 0.0516 - accuracy: 0.9869 - val_loss: 3.7681 - val_accuracy: 0.7400\n",
      "Epoch 19/30\n",
      "4/4 [==============================] - 0s 15ms/step - loss: 0.0492 - accuracy: 0.9869 - val_loss: 4.0435 - val_accuracy: 0.7400\n",
      "Epoch 20/30\n",
      "4/4 [==============================] - 0s 17ms/step - loss: 0.0492 - accuracy: 0.9804 - val_loss: 4.2710 - val_accuracy: 0.7400\n",
      "Epoch 21/30\n",
      "4/4 [==============================] - 0s 15ms/step - loss: 0.0373 - accuracy: 0.9869 - val_loss: 4.4171 - val_accuracy: 0.7400\n",
      "Epoch 22/30\n",
      "4/4 [==============================] - 0s 15ms/step - loss: 0.0256 - accuracy: 0.9935 - val_loss: 4.4984 - val_accuracy: 0.7400\n",
      "Epoch 23/30\n",
      "4/4 [==============================] - 0s 15ms/step - loss: 0.0367 - accuracy: 0.9869 - val_loss: 4.3313 - val_accuracy: 0.7400\n",
      "Epoch 24/30\n",
      "4/4 [==============================] - 0s 15ms/step - loss: 0.0494 - accuracy: 0.9869 - val_loss: 4.3794 - val_accuracy: 0.7400\n",
      "Epoch 25/30\n",
      "4/4 [==============================] - 0s 15ms/step - loss: 0.0083 - accuracy: 1.0000 - val_loss: 4.4873 - val_accuracy: 0.7400\n",
      "Epoch 26/30\n",
      "4/4 [==============================] - 0s 16ms/step - loss: 0.0132 - accuracy: 0.9935 - val_loss: 4.6293 - val_accuracy: 0.7400\n",
      "Epoch 27/30\n",
      "4/4 [==============================] - 0s 15ms/step - loss: 0.0276 - accuracy: 0.9935 - val_loss: 4.4349 - val_accuracy: 0.7400\n",
      "Epoch 28/30\n",
      "4/4 [==============================] - 0s 17ms/step - loss: 0.0114 - accuracy: 1.0000 - val_loss: 4.4444 - val_accuracy: 0.7400\n",
      "Epoch 29/30\n",
      "4/4 [==============================] - 0s 14ms/step - loss: 0.0135 - accuracy: 1.0000 - val_loss: 4.6879 - val_accuracy: 0.7400\n",
      "Epoch 30/30\n",
      "4/4 [==============================] - 0s 15ms/step - loss: 0.0295 - accuracy: 0.9935 - val_loss: 4.8164 - val_accuracy: 0.7400\n"
     ]
    },
    {
     "data": {
      "text/plain": [
       "<tensorflow.python.keras.callbacks.History at 0x7fa1bbaf8a20>"
      ]
     },
     "execution_count": 12,
     "metadata": {},
     "output_type": "execute_result"
    }
   ],
   "source": [
    "#training the model\n",
    "model.fit(x_train,y_train,batch_size=50,epochs=30,validation_data=(x_test,y_test))"
   ]
  },
  {
   "cell_type": "code",
   "execution_count": 13,
   "metadata": {
    "colab": {
     "base_uri": "https://localhost:8080/",
     "height": 85
    },
    "colab_type": "code",
    "id": "N1Rp9FTYhBpZ",
    "outputId": "8ac2e5be-314a-4284-ea31-ddbfeda1d4de"
   },
   "outputs": [
    {
     "name": "stdout",
     "output_type": "stream",
     "text": [
      "5/5 [==============================] - 0s 2ms/step - loss: 0.0034 - accuracy: 1.0000\n",
      "2/2 [==============================] - 0s 2ms/step - loss: 4.8164 - accuracy: 0.7400\n",
      "[0.0033533996902406216, 1.0]\n",
      "[4.816380023956299, 0.7400000095367432]\n"
     ]
    }
   ],
   "source": [
    "#train and test loss and scores respectively\n",
    "train_loss_score=model.evaluate(x_train,y_train)\n",
    "test_loss_score=model.evaluate(x_test,y_test)\n",
    "print(train_loss_score)\n",
    "print(test_loss_score)"
   ]
  },
  {
   "cell_type": "code",
   "execution_count": 14,
   "metadata": {},
   "outputs": [
    {
     "name": "stdout",
     "output_type": "stream",
     "text": [
      "Model: \"sequential\"\n",
      "_________________________________________________________________\n",
      "Layer (type)                 Output Shape              Param #   \n",
      "=================================================================\n",
      "conv2d (Conv2D)              (None, 40, 1, 64)         1664      \n",
      "_________________________________________________________________\n",
      "max_pooling2d (MaxPooling2D) (None, 20, 1, 64)         0         \n",
      "_________________________________________________________________\n",
      "conv2d_1 (Conv2D)            (None, 20, 1, 128)        204928    \n",
      "_________________________________________________________________\n",
      "max_pooling2d_1 (MaxPooling2 (None, 10, 1, 128)        0         \n",
      "_________________________________________________________________\n",
      "dropout (Dropout)            (None, 10, 1, 128)        0         \n",
      "_________________________________________________________________\n",
      "flatten (Flatten)            (None, 1280)              0         \n",
      "_________________________________________________________________\n",
      "dense (Dense)                (None, 256)               327936    \n",
      "_________________________________________________________________\n",
      "dropout_1 (Dropout)          (None, 256)               0         \n",
      "_________________________________________________________________\n",
      "dense_1 (Dense)              (None, 512)               131584    \n",
      "_________________________________________________________________\n",
      "dropout_2 (Dropout)          (None, 512)               0         \n",
      "_________________________________________________________________\n",
      "dense_2 (Dense)              (None, 10)                5130      \n",
      "=================================================================\n",
      "Total params: 671,242\n",
      "Trainable params: 671,242\n",
      "Non-trainable params: 0\n",
      "_________________________________________________________________\n"
     ]
    }
   ],
   "source": [
    "model.summary()"
   ]
  },
  {
   "cell_type": "code",
   "execution_count": 15,
   "metadata": {},
   "outputs": [
    {
     "name": "stdout",
     "output_type": "stream",
     "text": [
      "WARNING:tensorflow:From /Users/vishrud/opt/anaconda3/envs/kerasCPU3/lib/python3.6/site-packages/tensorflow/python/ops/resource_variable_ops.py:1817: calling BaseResourceVariable.__init__ (from tensorflow.python.ops.resource_variable_ops) with constraint is deprecated and will be removed in a future version.\n",
      "Instructions for updating:\n",
      "If using Keras pass *_constraint arguments to layers.\n",
      "INFO:tensorflow:Assets written to: urbanClassifier/assets\n"
     ]
    }
   ],
   "source": [
    "model.save('urbanClassifier')"
   ]
  },
  {
   "cell_type": "code",
   "execution_count": 16,
   "metadata": {},
   "outputs": [],
   "source": [
    "converter = tf.lite.TFLiteConverter.from_keras_model(model)\n",
    "tflite_model = converter.convert()\n",
    "\n",
    "# Save the TF Lite model.\n",
    "with tf.io.gfile.GFile('model.tflite', 'wb') as f:\n",
    "  f.write(tflite_model)"
   ]
  },
  {
   "cell_type": "code",
   "execution_count": 17,
   "metadata": {},
   "outputs": [
    {
     "data": {
      "text/plain": [
       "(40, 1, 1)"
      ]
     },
     "execution_count": 17,
     "metadata": {},
     "output_type": "execute_result"
    }
   ],
   "source": [
    "x_test[0].shape"
   ]
  },
  {
   "cell_type": "code",
   "execution_count": 18,
   "metadata": {},
   "outputs": [],
   "source": [
    "testData = np.expand_dims(x_test[5],axis=0)"
   ]
  },
  {
   "cell_type": "code",
   "execution_count": 19,
   "metadata": {},
   "outputs": [
    {
     "name": "stdout",
     "output_type": "stream",
     "text": [
      "WARNING:tensorflow:From <ipython-input-19-500332013312>:1: Sequential.predict_classes (from tensorflow.python.keras.engine.sequential) is deprecated and will be removed after 2021-01-01.\n",
      "Instructions for updating:\n",
      "Please use instead:* `np.argmax(model.predict(x), axis=-1)`,   if your model does multi-class classification   (e.g. if it uses a `softmax` last-layer activation).* `(model.predict(x) > 0.5).astype(\"int32\")`,   if your model does binary classification   (e.g. if it uses a `sigmoid` last-layer activation).\n"
     ]
    },
    {
     "name": "stderr",
     "output_type": "stream",
     "text": [
      "WARNING:tensorflow:From <ipython-input-19-500332013312>:1: Sequential.predict_classes (from tensorflow.python.keras.engine.sequential) is deprecated and will be removed after 2021-01-01.\n",
      "Instructions for updating:\n",
      "Please use instead:* `np.argmax(model.predict(x), axis=-1)`,   if your model does multi-class classification   (e.g. if it uses a `softmax` last-layer activation).* `(model.predict(x) > 0.5).astype(\"int32\")`,   if your model does binary classification   (e.g. if it uses a `sigmoid` last-layer activation).\n"
     ]
    }
   ],
   "source": [
    "prediction = model.predict_classes(testData)"
   ]
  },
  {
   "cell_type": "code",
   "execution_count": 20,
   "metadata": {},
   "outputs": [
    {
     "data": {
      "text/plain": [
       "array([3])"
      ]
     },
     "execution_count": 20,
     "metadata": {},
     "output_type": "execute_result"
    }
   ],
   "source": [
    "prediction"
   ]
  },
  {
   "cell_type": "code",
   "execution_count": 21,
   "metadata": {},
   "outputs": [
    {
     "data": {
      "text/plain": [
       "array([0., 0., 0., 1., 0., 0., 0., 0., 0., 0.], dtype=float32)"
      ]
     },
     "execution_count": 21,
     "metadata": {},
     "output_type": "execute_result"
    }
   ],
   "source": [
    "y_test[5]"
   ]
  },
  {
   "cell_type": "code",
   "execution_count": 22,
   "metadata": {},
   "outputs": [],
   "source": [
    "# Load the TFLite model and allocate tensors.\n",
    "interpreter = tf.lite.Interpreter(model_path=\"model.tflite\")\n",
    "interpreter.allocate_tensors()\n",
    "\n",
    "# Get input and output tensors.\n",
    "input_details = interpreter.get_input_details()\n",
    "output_details = interpreter.get_output_details()"
   ]
  },
  {
   "cell_type": "code",
   "execution_count": 23,
   "metadata": {},
   "outputs": [
    {
     "data": {
      "text/plain": [
       "[{'name': 'conv2d_input',\n",
       "  'index': 0,\n",
       "  'shape': array([ 1, 40,  1,  1], dtype=int32),\n",
       "  'shape_signature': array([ 1, 40,  1,  1], dtype=int32),\n",
       "  'dtype': numpy.float32,\n",
       "  'quantization': (0.0, 0),\n",
       "  'quantization_parameters': {'scales': array([], dtype=float32),\n",
       "   'zero_points': array([], dtype=int32),\n",
       "   'quantized_dimension': 0},\n",
       "  'sparsity_parameters': {}}]"
      ]
     },
     "execution_count": 23,
     "metadata": {},
     "output_type": "execute_result"
    }
   ],
   "source": [
    "input_details"
   ]
  },
  {
   "cell_type": "code",
   "execution_count": 26,
   "metadata": {},
   "outputs": [],
   "source": [
    "testData = np.expand_dims(x_test[5],axis=0)\n",
    "atData = np.float32(testData)"
   ]
  },
  {
   "cell_type": "code",
   "execution_count": 25,
   "metadata": {},
   "outputs": [
    {
     "name": "stdout",
     "output_type": "stream",
     "text": [
      "float32\n",
      "(1, 40, 1, 1)\n",
      "[[7.1473175e-11 7.8754218e-11 7.2361290e-05 9.9991715e-01 4.1809503e-07\n",
      "  2.0054536e-08 2.4804867e-06 4.1848831e-09 7.6419092e-06 3.6501409e-09]]\n"
     ]
    }
   ],
   "source": [
    "input_shape = input_details[0]['shape']\n",
    "input_data = np.array(np.random.random_sample(input_shape), dtype=np.float32)\n",
    "interpreter.set_tensor(input_details[0]['index'], atData)\n",
    "print(input_data.dtype)\n",
    "print(testData.shape)\n",
    "interpreter.invoke()\n",
    "\n",
    "# The function `get_tensor()` returns a copy of the tensor data.\n",
    "# Use `tensor()` in order to get a pointer to the tensor.\n",
    "output_data = interpreter.get_tensor(output_details[0]['index'])\n",
    "print(output_data)"
   ]
  },
  {
   "cell_type": "code",
   "execution_count": null,
   "metadata": {},
   "outputs": [],
   "source": []
  }
 ],
 "metadata": {
  "accelerator": "GPU",
  "colab": {
   "collapsed_sections": [],
   "name": "Urban_cnn_model.ipynb",
   "provenance": [],
   "version": "0.3.2"
  },
  "kernelspec": {
   "display_name": "kerasCPU3",
   "language": "python",
   "name": "kerascpu3"
  },
  "language_info": {
   "codemirror_mode": {
    "name": "ipython",
    "version": 3
   },
   "file_extension": ".py",
   "mimetype": "text/x-python",
   "name": "python",
   "nbconvert_exporter": "python",
   "pygments_lexer": "ipython3",
   "version": "3.6.10"
  }
 },
 "nbformat": 4,
 "nbformat_minor": 1
}
